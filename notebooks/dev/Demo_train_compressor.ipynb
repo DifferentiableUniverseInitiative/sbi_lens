{
  "nbformat": 4,
  "nbformat_minor": 0,
  "metadata": {
    "colab": {
      "provenance": [],
      "machine_shape": "hm",
      "gpuType": "T4",
      "authorship_tag": "ABX9TyNqda7+CAJDI2AkBijQmq8u",
      "include_colab_link": true
    },
    "kernelspec": {
      "name": "python3",
      "display_name": "Python 3"
    },
    "language_info": {
      "name": "python"
    },
    "accelerator": "GPU",
    "gpuClass": "standard"
  },
  "cells": [
    {
      "cell_type": "markdown",
      "metadata": {
        "id": "view-in-github",
        "colab_type": "text"
      },
      "source": [
        "<a href=\"https://colab.research.google.com/github/DifferentiableUniverseInitiative/sbi_lens/blob/u%2FJustinezgh%2Ftrain_class/notebooks/dev/Demo_train_compressor.ipynb\" target=\"_parent\"><img src=\"https://colab.research.google.com/assets/colab-badge.svg\" alt=\"Open In Colab\"/></a>"
      ]
    },
    {
      "cell_type": "code",
      "execution_count": 1,
      "metadata": {
        "colab": {
          "base_uri": "https://localhost:8080/"
        },
        "cellView": "form",
        "id": "4d4CtKa4Kl0q",
        "outputId": "8a8d2e16-686b-4c66-ce26-9fe30e6f4090"
      },
      "outputs": [
        {
          "output_type": "stream",
          "name": "stdout",
          "text": [
            "  Preparing metadata (setup.py) ... \u001b[?25l\u001b[?25hdone\n",
            "\u001b[2K     \u001b[90m━━━━━━━━━━━━━━━━━━━━━━━━━━━━━━━━━━━━━━━\u001b[0m \u001b[32m287.3/287.3 kB\u001b[0m \u001b[31m1.5 MB/s\u001b[0m eta \u001b[36m0:00:00\u001b[0m\n",
            "\u001b[2K     \u001b[90m━━━━━━━━━━━━━━━━━━━━━━━━━━━━━━━━━━━━━━━\u001b[0m \u001b[32m142.2/142.2 kB\u001b[0m \u001b[31m9.8 MB/s\u001b[0m eta \u001b[36m0:00:00\u001b[0m\n",
            "\u001b[2K     \u001b[90m━━━━━━━━━━━━━━━━━━━━━━━━━━━━━━━━━━━━━━\u001b[0m \u001b[32m292.7/292.7 kB\u001b[0m \u001b[31m29.5 MB/s\u001b[0m eta \u001b[36m0:00:00\u001b[0m\n",
            "\u001b[2K     \u001b[90m━━━━━━━━━━━━━━━━━━━━━━━━━━━━━━━━━━━━━━\u001b[0m \u001b[32m287.4/287.4 kB\u001b[0m \u001b[31m29.8 MB/s\u001b[0m eta \u001b[36m0:00:00\u001b[0m\n",
            "\u001b[?25h  Preparing metadata (setup.py) ... \u001b[?25l\u001b[?25hdone\n",
            "\u001b[2K     \u001b[90m━━━━━━━━━━━━━━━━━━━━━━━━━━━━━━━━━━━━━━\u001b[0m \u001b[32m259.6/259.6 kB\u001b[0m \u001b[31m23.1 MB/s\u001b[0m eta \u001b[36m0:00:00\u001b[0m\n",
            "\u001b[?25h  Preparing metadata (setup.py) ... \u001b[?25l\u001b[?25hdone\n",
            "  Preparing metadata (setup.py) ... \u001b[?25l\u001b[?25hdone\n",
            "  Building wheel for sbi-lens (setup.py) ... \u001b[?25l\u001b[?25hdone\n",
            "  Building wheel for jax-cosmo (setup.py) ... \u001b[?25l\u001b[?25hdone\n",
            "  Building wheel for lenstools (setup.py) ... \u001b[?25l\u001b[?25hdone\n",
            "  Building wheel for emcee (setup.py) ... \u001b[?25l\u001b[?25hdone\n",
            "Populating the interactive namespace from numpy and matplotlib\n"
          ]
        },
        {
          "output_type": "stream",
          "name": "stderr",
          "text": [
            "/usr/local/lib/python3.9/dist-packages/haiku/_src/data_structures.py:37: FutureWarning: jax.tree_structure is deprecated, and will be removed in a future release. Use jax.tree_util.tree_structure instead.\n",
            "  PyTreeDef = type(jax.tree_structure(None))\n",
            "/usr/local/lib/python3.9/dist-packages/lenstools/utils/mpi.py:15: UserWarning: Could not import mpi4py! (if you set sys.modules['mpi4py']=None please disregard this message)\n",
            "  warnings.warn(wmsg)\n"
          ]
        }
      ],
      "source": [
        "#@title Imports\n",
        "!pip install --quiet git+https://github.com/DifferentiableUniverseInitiative/sbi_lens@u/Justinezgh/update_utils_functions\n",
        "!pip install --quiet dm-haiku\n",
        "%pylab inline\n",
        "\n",
        "from functools import partial\n",
        "import jax\n",
        "import jax.numpy as jnp\n",
        "from numpyro.handlers import seed, condition\n",
        "from sbi_lens.simulator import lensingLogNormal\n",
        "from jax.random import PRNGKey as key\n",
        "\n",
        "import haiku as hk\n",
        "from haiku._src.nets.resnet import ResNet18\n",
        "from sbi_lens.normflow.models import AffineSigmoidCoupling, ConditionalRealNVP\n",
        "import optax\n",
        "\n",
        "from sbi_lens.simulator.utils import get_samples_and_scores"
      ]
    },
    {
      "cell_type": "code",
      "source": [
        "# define model \n",
        "\n",
        "N = 20 \n",
        "nb_bins = 5\n",
        "\n",
        "model = partial(lensingLogNormal,\n",
        "                model_type='lognormal',\n",
        "                N = N,\n",
        "                with_noise=True)\n",
        "\n",
        "# condition the model on a given set of parameters\n",
        "fiducial_model = condition(model, {'omega_c': 0.3, \n",
        "                                   'omega_b': 0.0492,\n",
        "                                   'sigma_8': 0.8,\n",
        "                                   'h_0': 0.7,\n",
        "                                   'n_s': 0.9,\n",
        "                                   'w_0': -1.0})\n",
        "\n",
        "# sample a mass map\n",
        "sample_map_fiducial = seed(fiducial_model, jax.random.PRNGKey(42))\n",
        "m_data = sample_map_fiducial()"
      ],
      "metadata": {
        "colab": {
          "base_uri": "https://localhost:8080/"
        },
        "id": "JdJxtxdPLOIw",
        "outputId": "cad8781c-e66e-43ff-ee25-9d605ceb79d8"
      },
      "execution_count": 2,
      "outputs": [
        {
          "output_type": "stream",
          "name": "stderr",
          "text": [
            "/usr/local/lib/python3.9/dist-packages/jax_cosmo/scipy/interpolate.py:35: UserWarning: Explicitly requested dtype <class 'jax.numpy.int64'> requested in astype is not available, and will be truncated to dtype int32. To enable more dtypes, set the jax_enable_x64 configuration option or the JAX_ENABLE_X64 shell environment variable. See https://github.com/google/jax#current-gotchas for more.\n",
            "  s = np.sign(np.clip(x, xp[1], xp[-2]) - xi).astype(np.int64)\n",
            "/usr/local/lib/python3.9/dist-packages/jax_cosmo/scipy/interpolate.py:36: UserWarning: Explicitly requested dtype <class 'jax.numpy.int64'> requested in astype is not available, and will be truncated to dtype int32. To enable more dtypes, set the jax_enable_x64 configuration option or the JAX_ENABLE_X64 shell environment variable. See https://github.com/google/jax#current-gotchas for more.\n",
            "  a = (fp[ind + np.copysign(1, s).astype(np.int64)] - fp[ind]) / (\n",
            "/usr/local/lib/python3.9/dist-packages/jax_cosmo/scipy/interpolate.py:37: UserWarning: Explicitly requested dtype <class 'jax.numpy.int64'> requested in astype is not available, and will be truncated to dtype int32. To enable more dtypes, set the jax_enable_x64 configuration option or the JAX_ENABLE_X64 shell environment variable. See https://github.com/google/jax#current-gotchas for more.\n",
            "  xp[ind + np.copysign(1, s).astype(np.int64)] - xp[ind]\n"
          ]
        }
      ]
    },
    {
      "cell_type": "code",
      "source": [
        "figure(figsize=[15,5])\n",
        "for i in range(5):\n",
        "    subplot(1,5,i+1)\n",
        "    imshow(m_data[...,i])\n",
        "    title('Bin % d' % i)\n",
        "    axis('off')"
      ],
      "metadata": {
        "colab": {
          "base_uri": "https://localhost:8080/",
          "height": 258
        },
        "id": "VtWNM-yRePwG",
        "outputId": "1832a884-25ec-48f9-eae6-4fc3cc6c792e"
      },
      "execution_count": 3,
      "outputs": [
        {
          "output_type": "display_data",
          "data": {
            "text/plain": [
              "<Figure size 1500x500 with 5 Axes>"
            ],
            "image/png": "[encoded data removed]"
          },
          "metadata": {}
        }
      ]
    },
    {
      "cell_type": "code",
      "source": [
        "# create get_batch function (will be replace by the dataset)\n",
        "\n",
        "# @jax.jit (still have to fixe this issue --')\n",
        "def get_batch(key):\n",
        "  (logp, samples), scores = get_samples_and_scores(\n",
        "        model,\n",
        "        key,\n",
        "        batch_size=10,\n",
        "  )\n",
        "  return samples, scores"
      ],
      "metadata": {
        "id": "B-EDZzzKLZHg"
      },
      "execution_count": 4,
      "outputs": []
    },
    {
      "cell_type": "code",
      "source": [
        "simu, score = get_batch(key(0))"
      ],
      "metadata": {
        "id": "juoAKKn3MfNg"
      },
      "execution_count": 5,
      "outputs": []
    },
    {
      "cell_type": "code",
      "source": [
        "print('score shape: ', score.shape)\n",
        "print('simu params shape: ', simu['theta'].shape)\n",
        "print('simu mass map shape: ', simu['y'].shape)"
      ],
      "metadata": {
        "colab": {
          "base_uri": "https://localhost:8080/"
        },
        "id": "6uS6S-tGP96L",
        "outputId": "691d78dd-182e-463b-8af8-b7f198db8e68"
      },
      "execution_count": 6,
      "outputs": [
        {
          "output_type": "stream",
          "name": "stdout",
          "text": [
            "score shape:  (10, 6)\n",
            "simu params shape:  (10, 6)\n",
            "simu mass map shape:  (10, 20, 20, 5)\n"
          ]
        }
      ]
    },
    {
      "cell_type": "code",
      "source": [],
      "metadata": {
        "id": "cKiCFnKwOD9K"
      },
      "execution_count": 10,
      "outputs": []
    },
    {
      "cell_type": "code",
      "source": [
        "import jax\n",
        "import jax.numpy as jnp\n",
        "import numpy as np\n",
        "import optax\n",
        "from tqdm import tqdm\n",
        "from functools import partial\n",
        "\n",
        "\n",
        "class train_model():\n",
        "\n",
        "    def loss_mse(self, params, theta, x, state_resnet):\n",
        "      \n",
        "        y, opt_state_resnet = self.compressor.apply(\n",
        "            params, \n",
        "            state_resnet,\n",
        "            None, \n",
        "            x.reshape([-1, self.nb_pixels, self.nb_pixels, self.nb_bins])\n",
        "        )\n",
        "\n",
        "        loss = jnp.mean(jnp.sum((y - theta)**2, axis=1))\n",
        "\n",
        "        return loss, opt_state_resnet\n",
        "\n",
        "\n",
        "    def loss_vmim(self, params, theta, x, state_resnet):\n",
        "\n",
        "        y, opt_state_resnet = self.compressor.apply(\n",
        "            params, \n",
        "            state_resnet,\n",
        "            None, \n",
        "            x.reshape([-1, self.nb_pixels, self.nb_pixels, self.nb_bins])\n",
        "        )\n",
        "        log_prob = jax.vmap(\n",
        "            lambda theta, x: self.nf.apply(\n",
        "                params, \n",
        "                theta.reshape([1,6]), \n",
        "                x.reshape([1,6])\n",
        "            ).squeeze()\n",
        "        )(theta, y)\n",
        "\n",
        "        return -jnp.mean(log_prob), opt_state_resnet\n",
        "\n",
        "\n",
        "    def __init__(\n",
        "        self,\n",
        "        compressor,\n",
        "        nf,\n",
        "        optimizer,\n",
        "        loss_name, \n",
        "        nb_pixels, \n",
        "        nb_bins\n",
        "    ):\n",
        "\n",
        "        self.compressor = compressor\n",
        "        self.nf = nf\n",
        "        self.optimizer = optimizer\n",
        "        self.nb_pixels = nb_pixels\n",
        "        self.nb_bins = nb_bins\n",
        "\n",
        "\n",
        "        if loss_name == ' mse': \n",
        "            self.loss = self.loss_mse\n",
        "        elif loss_name == 'vmim': \n",
        "            self.loss = self.loss_vmim\n",
        "\n",
        "\n",
        "    @partial(jax.jit, static_argnums=(0,))\n",
        "    def update(\n",
        "        self,\n",
        "        model_params,\n",
        "        opt_state,\n",
        "        theta,\n",
        "        x,\n",
        "        state_resnet\n",
        "    ):\n",
        "\n",
        "        (loss, opt_state_resnet), grads = jax.value_and_grad(\n",
        "                self.loss, \n",
        "                has_aux = True\n",
        "            )(model_params, theta, x, state_resnet)\n",
        "\n",
        "        updates, new_opt_state = self.optimizer.update(\n",
        "            grads, \n",
        "            opt_state\n",
        "        )\n",
        "\n",
        "        new_params = optax.apply_updates(\n",
        "            model_params, \n",
        "            updates\n",
        "        )\n",
        "      \n",
        "        return loss, new_params, new_opt_state, opt_state_resnet"
      ],
      "metadata": {
        "id": "9iTpNzQ9RjLh"
      },
      "execution_count": 20,
      "outputs": []
    },
    {
      "cell_type": "code",
      "source": [
        "# create compressor \n",
        "\n",
        "# nf\n",
        "bijector_layers_compressor = [128] * 2\n",
        "\n",
        "bijector_compressor = partial(\n",
        "  AffineSigmoidCoupling, \n",
        "  layers=bijector_layers_compressor, \n",
        "  n_components=16, \n",
        "  activation=jax.nn.silu\n",
        ")\n",
        "\n",
        "NF_compressor = partial(\n",
        "  ConditionalRealNVP, \n",
        "  n_layers=4, \n",
        "  bijector_fn=bijector_compressor\n",
        ")\n",
        "\n",
        "class Flow_nd_Compressor(hk.Module):\n",
        "    def __call__(self, y):\n",
        "        nvp = NF_compressor(2)(y)\n",
        "        return nvp\n",
        "\n",
        "nf = hk.without_apply_rng(\n",
        "    hk.transform(\n",
        "        lambda theta, y : Flow_nd_Compressor()(y).log_prob(theta).squeeze()\n",
        "    )\n",
        ")\n",
        "\n",
        "\n",
        "# compressor\n",
        "compressor = hk.transform_with_state(lambda x : ResNet18(6)(x, is_training=True))"
      ],
      "metadata": {
        "id": "lb77vhZiMnzB"
      },
      "execution_count": 21,
      "outputs": []
    },
    {
      "cell_type": "code",
      "source": [
        "# init compressor\n",
        "parameters_resnet, opt_state_resnet  = compressor.init(key(0), 0.5*jnp.ones([1,N,N,nb_bins]))\n",
        "# init nf\n",
        "params_nf = nf.init(key(0),  0.5*jnp.ones([1, 6]), 0.5*jnp.ones([1, 6]))\n",
        "# merge params\n",
        "parameters_compressor = hk.data_structures.merge(parameters_resnet, params_nf)\n",
        "\n",
        "# define optimizer\n",
        "total_steps = 100 \n",
        "lr_scheduler = optax.piecewise_constant_schedule(\n",
        "    init_value=0.001,\n",
        "    boundaries_and_scales={int(total_steps*0.1):0.7,\n",
        "                           int(total_steps*0.2):0.7,\n",
        "                           int(total_steps*0.3):0.7,\n",
        "                           int(total_steps*0.4):0.7,\n",
        "                           int(total_steps*0.5):0.7,\n",
        "                           int(total_steps*0.6):0.7,\n",
        "                           int(total_steps*0.7):0.7,\n",
        "                           int(total_steps*0.8):0.7,\n",
        "                           int(total_steps*0.9):0.7}\n",
        ")\n",
        "\n",
        "\n",
        "optimizer_c = optax.adam(learning_rate=lr_scheduler)\n",
        "opt_state_c = optimizer_c.init(parameters_compressor)"
      ],
      "metadata": {
        "colab": {
          "base_uri": "https://localhost:8080/"
        },
        "id": "FCJm8k7GUfsl",
        "outputId": "895d857f-f49c-4f76-c598-8b0538503b17"
      },
      "execution_count": 22,
      "outputs": [
        {
          "output_type": "stream",
          "name": "stderr",
          "text": [
            "/usr/local/lib/python3.9/dist-packages/haiku/_src/data_structures.py:206: FutureWarning: jax.tree_flatten is deprecated, and will be removed in a future release. Use jax.tree_util.tree_flatten instead.\n",
            "  leaves, structure = jax.tree_flatten(mapping)\n"
          ]
        }
      ]
    },
    {
      "cell_type": "code",
      "source": [
        "# create compressor train object \n",
        "\n",
        "model_compressor = train_model(\n",
        "        compressor = compressor,\n",
        "        nf = nf,\n",
        "        optimizer = optimizer_c,\n",
        "        loss_name = 'vmim', \n",
        "        nb_pixels = N, \n",
        "        nb_bins = nb_bins\n",
        ")"
      ],
      "metadata": {
        "id": "huQHr9X-gGF2"
      },
      "execution_count": 23,
      "outputs": []
    },
    {
      "cell_type": "code",
      "source": [
        "# train \n",
        "\n",
        "batch_loss = []\n",
        "for step in tqdm(range(total_steps)):\n",
        "  # add dataset here\n",
        "  l, parameters_compressor, opt_state_c, opt_state_resnet = model_compressor.update(\n",
        "          model_params = parameters_compressor,\n",
        "          opt_state=opt_state_c,\n",
        "          theta = simu['theta'],\n",
        "          x=simu['y'],\n",
        "          state_resnet=opt_state_resnet\n",
        "  )\n",
        "  batch_loss.append(l)"
      ],
      "metadata": {
        "colab": {
          "base_uri": "https://localhost:8080/"
        },
        "id": "iD8cFJ04U1qF",
        "outputId": "d7e2e867-ac08-4fa8-8ed1-8f3024d0125d"
      },
      "execution_count": 24,
      "outputs": [
        {
          "output_type": "stream",
          "name": "stderr",
          "text": [
            "\r  0%|          | 0/100 [00:00<?, ?it/s]/usr/local/lib/python3.9/dist-packages/haiku/_src/data_structures.py:214: FutureWarning: jax.tree_unflatten is deprecated, and will be removed in a future release. Use jax.tree_util.tree_unflatten instead.\n",
            "  self._mapping = jax.tree_unflatten(self._structure, self._leaves)\n",
            "100%|██████████| 100/100 [00:26<00:00,  3.80it/s]\n"
          ]
        }
      ]
    },
    {
      "cell_type": "code",
      "source": [
        "plot(batch_loss)"
      ],
      "metadata": {
        "colab": {
          "base_uri": "https://localhost:8080/",
          "height": 450
        },
        "id": "O84yHJhdayjL",
        "outputId": "39710729-4399-4b0b-a620-d40bc25b3f53"
      },
      "execution_count": 25,
      "outputs": [
        {
          "output_type": "execute_result",
          "data": {
            "text/plain": [
              "[<matplotlib.lines.Line2D at 0x7fbb4870b0a0>]"
            ]
          },
          "metadata": {},
          "execution_count": 25
        },
        {
          "output_type": "display_data",
          "data": {
            "text/plain": [
              "<Figure size 640x480 with 1 Axes>"
            ],
            "image/png": "[encoded data removed]"
          },
          "metadata": {}
        }
      ]
    },
    {
      "cell_type": "code",
      "source": [],
      "metadata": {
        "id": "qKMxs25ecv04"
      },
      "execution_count": null,
      "outputs": []
    }
  ]
}